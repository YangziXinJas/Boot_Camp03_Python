{
 "cells": [
  {
   "cell_type": "code",
   "execution_count": 9,
   "metadata": {},
   "outputs": [],
   "source": [
    "import os"
   ]
  },
  {
   "cell_type": "code",
   "execution_count": 14,
   "metadata": {},
   "outputs": [],
   "source": [
    "import csv\n",
    "csvpath = os.path.join('..','PyBankResources','budget_data.csv')\n"
   ]
  },
  {
   "cell_type": "code",
   "execution_count": 93,
   "metadata": {},
   "outputs": [
    {
     "name": "stdout",
     "output_type": "stream",
     "text": [
      "Financial Analysis\n",
      "----------------------------\n",
      "Total Month: 86\n",
      "Total: 38382578\n",
      "Average Change: $-2315.12\n",
      "Greatest Increase in Profits: Feb-2012 ($1926159)\n",
      "Greatest Decrease in Profits: Sep-2013 ($-2196167)\n"
     ]
    }
   ],
   "source": [
    "with open(csvpath) as csvfile:\n",
    "    csvreader = csv.reader(csvfile, delimiter = ',')\n",
    "    csv_header = next(csvreader)\n",
    "    \n",
    "    prev = next(csvreader)\n",
    "    line_count = 1 \n",
    "    total = int(prev[1])\n",
    "    prev_month = prev[1]\n",
    "    max_profit_month = ''\n",
    "    max_profit = 0 \n",
    "    max_loss_month = ''\n",
    "    max_loss = 0\n",
    "    change = 0 \n",
    "    for row in csvreader:\n",
    "        line_count +=1\n",
    "        total += int(row[1])\n",
    "        if int(row[1]) - int(prev_month) > int(max_profit):\n",
    "            max_profit = int(row[1]) - int(prev_month)\n",
    "            max_profit_month = row[0]\n",
    "        if int(row[1]) - int(prev_month) < int(max_loss):\n",
    "            max_loss = int(row[1]) - int(prev_month)\n",
    "            max_loss_month = row[0]\n",
    "        change += int(row[1]) - int(prev_month)\n",
    "        prev_month = row[1]\n",
    "    avg = round(change / (line_count -1),2)\n",
    "        \n",
    "    print ('Financial Analysis')\n",
    "    print ('----------------------------')\n",
    "    print ('Total Month: ' + str(line_count))\n",
    "    print ('Total: ' + str(total))\n",
    "    print ('Average Change: $' + str(avg))\n",
    "    print ('Greatest Increase in Profits: '+ max_profit_month + ' ($'  + str(max_profit) + ')')\n",
    "    print ('Greatest Decrease in Profits: '+ max_loss_month + ' ($'  + str(max_loss) + ')')"
   ]
  },
  {
   "cell_type": "code",
   "execution_count": null,
   "metadata": {},
   "outputs": [],
   "source": []
  }
 ],
 "metadata": {
  "kernelspec": {
   "display_name": "Python 3",
   "language": "python",
   "name": "python3"
  },
  "language_info": {
   "codemirror_mode": {
    "name": "ipython",
    "version": 3
   },
   "file_extension": ".py",
   "mimetype": "text/x-python",
   "name": "python",
   "nbconvert_exporter": "python",
   "pygments_lexer": "ipython3",
   "version": "3.7.4"
  }
 },
 "nbformat": 4,
 "nbformat_minor": 2
}

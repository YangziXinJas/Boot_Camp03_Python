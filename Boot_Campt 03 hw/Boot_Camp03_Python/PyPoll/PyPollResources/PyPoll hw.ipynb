{
 "cells": [
  {
   "cell_type": "code",
   "execution_count": 31,
   "metadata": {},
   "outputs": [
    {
     "name": "stdout",
     "output_type": "stream",
     "text": [
      "Election Results\n",
      "-------------------------\n",
      "Total Votes: 3521001\n",
      "-------------------------\n",
      "Khan: 63.000%(2218231)\n",
      "Correy: 20.000%(704200)\n",
      "Li: 14.000%(492940)\n",
      "O'Tooley: 3.000%(105630)\n",
      "-------------------------\n",
      "Winner: Khan\n",
      "-------------------------\n"
     ]
    }
   ],
   "source": [
    "import os\n",
    "import csv\n",
    "csvpath = os.path.join('..', 'PyPollResources', 'election_data.csv')\n",
    "with open (csvpath) as csvfile:\n",
    "    csvreader = csv.reader(csvfile, delimiter = ',')\n",
    "    csv_header = next(csvreader)\n",
    "    votes = 0\n",
    "    votekhan = 0\n",
    "    votecorrey = 0\n",
    "    voteli = 0\n",
    "    voteo = 0\n",
    "    for row in csvreader:\n",
    "        votes += 1 \n",
    "        if row[2] == 'Khan':\n",
    "            votekhan += 1\n",
    "        elif row[2] == 'Correy':\n",
    "            votecorrey += 1\n",
    "        elif row[2] == 'Li':\n",
    "            voteli += 1\n",
    "        elif row[2] == 'O\\'Tooley':\n",
    "            voteo += 1\n",
    "    KhanP = '{:.3f}'.format(round(votekhan / votes * 100, 3))\n",
    "    CorreyP = '{:.3f}'.format(round(votecorrey / votes*100,3))\n",
    "    LiP = '{:.3f}'.format(round(voteli / votes*100,3))\n",
    "    OP = '{:.3f}'.format(round(voteo / votes*100,3))\n",
    "    winner = max(votekhan,votecorrey,voteli,voteo)        \n",
    "    if winner == votekhan:\n",
    "        winner = 'Khan'\n",
    "    elif winner == votecorrey:\n",
    "        winner = 'Correy'\n",
    "    elif winner == voteli:\n",
    "        winner = 'Li'\n",
    "    elif winner == voteo:\n",
    "        winner = 'O\\'Tooley'\n",
    "print ('Election Results')\n",
    "print ('-------------------------')\n",
    "print ('Total Votes: ' + str(votes))\n",
    "print ('-------------------------')\n",
    "print ('Khan: ' + str(KhanP) +'%' +'('+ str(votekhan) + ')')\n",
    "print ('Correy: ' + str(CorreyP) +'%' +'('+ str(votecorrey) + ')')\n",
    "print ('Li: ' + str(LiP) +'%' +'('+ str(voteli) + ')')\n",
    "print ('O\\'Tooley: ' + str(OP) +'%' +'('+ str(voteo) + ')')\n",
    "print ('-------------------------')\n",
    "print ('Winner: ' + winner)\n",
    "print ('-------------------------')"
   ]
  },
  {
   "cell_type": "code",
   "execution_count": null,
   "metadata": {},
   "outputs": [],
   "source": []
  }
 ],
 "metadata": {
  "kernelspec": {
   "display_name": "Python 3",
   "language": "python",
   "name": "python3"
  },
  "language_info": {
   "codemirror_mode": {
    "name": "ipython",
    "version": 3
   },
   "file_extension": ".py",
   "mimetype": "text/x-python",
   "name": "python",
   "nbconvert_exporter": "python",
   "pygments_lexer": "ipython3",
   "version": "3.7.4"
  }
 },
 "nbformat": 4,
 "nbformat_minor": 2
}
